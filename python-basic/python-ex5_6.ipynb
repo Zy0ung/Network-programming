{
 "cells": [
  {
   "cell_type": "markdown",
   "metadata": {},
   "source": [
    "### 연습문제 5"
   ]
  },
  {
   "cell_type": "code",
   "execution_count": 5,
   "metadata": {},
   "outputs": [
    {
     "name": "stdout",
     "output_type": "stream",
     "text": [
      "1\n"
     ]
    }
   ],
   "source": [
    "A, B = map(int, input().split())\n",
    "\n",
    "#큰 수를 작은 수로 나눈 나머지를 구하라.\n",
    "if A > B:\n",
    "    the_rest = A % B\n",
    "    print(the_rest)\n",
    "else:\n",
    "    the_rest = B % A\n",
    "    print(the_rest)"
   ]
  },
  {
   "cell_type": "code",
   "execution_count": 7,
   "metadata": {},
   "outputs": [
    {
     "name": "stdout",
     "output_type": "stream",
     "text": [
      "2 0\n"
     ]
    }
   ],
   "source": [
    "A, B = map(int, input().split())\n",
    "\n",
    "#큰 수를 작은 수로 대체하고 작은 수는 나머지로 대체\n",
    "if A > B:\n",
    "    the_rest = A % B\n",
    "    A = B\n",
    "    B = the_rest\n",
    "    print(A, B)\n",
    "else:\n",
    "    the_rest = B % A\n",
    "    B = A\n",
    "    A = the_rest\n",
    "    print(A, B)"
   ]
  },
  {
   "cell_type": "code",
   "execution_count": 12,
   "metadata": {},
   "outputs": [
    {
     "name": "stdout",
     "output_type": "stream",
     "text": [
      "12\n"
     ]
    }
   ],
   "source": [
    "A, B = map(int, input().split())\n",
    "\n",
    "#작은수가 0 이 될때 까지 이과정 반복.\n",
    "if A > B:\n",
    "    while B != 0:\n",
    "        the_rest = A % B\n",
    "        A = B\n",
    "        B = the_rest\n",
    "elif A < B:\n",
    "    while A != 0:\n",
    "        the_rest = B % A\n",
    "        B = A\n",
    "        A = the_rest\n",
    "print(max(A, B))"
   ]
  },
  {
   "cell_type": "markdown",
   "metadata": {},
   "source": [
    "### 연습문제 6"
   ]
  },
  {
   "cell_type": "code",
   "execution_count": 1,
   "metadata": {},
   "outputs": [
    {
     "name": "stdout",
     "output_type": "stream",
     "text": [
      "Your word:  Buffalo\n",
      "Buffa\n",
      "lo\n"
     ]
    }
   ],
   "source": [
    "word = input(\"enter the word include 'a': \")\n",
    "print('Your word: ', word)\n",
    "\n",
    "for i in range(len(word)):\n",
    "    if word[i] == 'a':\n",
    "        print(word[:i+1])\n",
    "        print(word[i+1:])"
   ]
  },
  {
   "cell_type": "code",
   "execution_count": 2,
   "metadata": {},
   "outputs": [
    {
     "name": "stdout",
     "output_type": "stream",
     "text": [
      "Your word:  Buffalo\n",
      "Buffa\n",
      "lo\n"
     ]
    }
   ],
   "source": [
    "word = input(\"enter the word include 'a': \")\n",
    "print('Your word: ', word)\n",
    "\n",
    "w = word.split('a')\n",
    "print(w[0] + 'a')\n",
    "print(w[1])"
   ]
  }
 ],
 "metadata": {
  "interpreter": {
   "hash": "b3ba2566441a7c06988d0923437866b63cedc61552a5af99d1f4fb67d367b25f"
  },
  "kernelspec": {
   "display_name": "Python 3.8.8 ('base')",
   "language": "python",
   "name": "python3"
  },
  "language_info": {
   "codemirror_mode": {
    "name": "ipython",
    "version": 3
   },
   "file_extension": ".py",
   "mimetype": "text/x-python",
   "name": "python",
   "nbconvert_exporter": "python",
   "pygments_lexer": "ipython3",
   "version": "3.8.8"
  },
  "orig_nbformat": 4
 },
 "nbformat": 4,
 "nbformat_minor": 2
}
