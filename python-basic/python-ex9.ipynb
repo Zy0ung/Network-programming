{
 "cells": [
  {
   "cell_type": "markdown",
   "metadata": {},
   "source": [
    "### 연습문제 9"
   ]
  },
  {
   "cell_type": "code",
   "execution_count": 8,
   "metadata": {},
   "outputs": [],
   "source": [
    "days = {'January': 31, 'February': 28, 'March':31, 'April':30, 'May':31, 'June': 30, \n",
    "'July':31, 'August':31, 'September':30, 'October':31, 'November':30, 'December':31}"
   ]
  },
  {
   "cell_type": "code",
   "execution_count": 9,
   "metadata": {},
   "outputs": [
    {
     "name": "stdout",
     "output_type": "stream",
     "text": [
      "31\n"
     ]
    }
   ],
   "source": [
    "#사용자가 월을 입력하면 해당 월에 일 수를 출력\n",
    "user = input()\n",
    "\n",
    "if user in days.keys():\n",
    "    print(days[user])"
   ]
  },
  {
   "cell_type": "code",
   "execution_count": 56,
   "metadata": {},
   "outputs": [
    {
     "name": "stdout",
     "output_type": "stream",
     "text": [
      "['April', 'August', 'December', 'February', 'January', 'July', 'June', 'March', 'May', 'November', 'October', 'September']\n"
     ]
    }
   ],
   "source": [
    "#알파벳 순서로 모든 월을 출력\n",
    "\n",
    "sort_month = list(days.keys())\n",
    "sort_month.sort()\n",
    "print(sort_month)"
   ]
  },
  {
   "cell_type": "code",
   "execution_count": 59,
   "metadata": {},
   "outputs": [
    {
     "name": "stdout",
     "output_type": "stream",
     "text": [
      "January\n",
      "March\n",
      "May\n",
      "July\n",
      "August\n",
      "October\n",
      "December\n"
     ]
    }
   ],
   "source": [
    "#일수가 31인 월을 모두 출력\n",
    "for key, value in days.items():\n",
    "   if 31 == value:\n",
    "      print(key)"
   ]
  },
  {
   "cell_type": "code",
   "execution_count": 89,
   "metadata": {},
   "outputs": [
    {
     "data": {
      "text/plain": [
       "[('February', 28),\n",
       " ('April', 30),\n",
       " ('June', 30),\n",
       " ('September', 30),\n",
       " ('November', 30),\n",
       " ('January', 31),\n",
       " ('March', 31),\n",
       " ('May', 31),\n",
       " ('July', 31),\n",
       " ('August', 31),\n",
       " ('October', 31),\n",
       " ('December', 31)]"
      ]
     },
     "execution_count": 89,
     "metadata": {},
     "output_type": "execute_result"
    }
   ],
   "source": [
    "#월의 일수를 기준으로 오름차순으로 (key-value)쌍을 출력\n",
    "sorted(days.items(), key=lambda t:t[1]) #t[0]은 key, t[1]은 value"
   ]
  },
  {
   "cell_type": "code",
   "execution_count": 92,
   "metadata": {},
   "outputs": [
    {
     "name": "stdout",
     "output_type": "stream",
     "text": [
      "28\n"
     ]
    }
   ],
   "source": [
    "#사용자가 월을 3자리만 입력하면 월의 일수를 출력(ex.Jan, Feb ...)\n",
    "month = input()\n",
    "\n",
    "for key, value in days.items():\n",
    "    if month == key[:3]:\n",
    "        print(value)"
   ]
  }
 ],
 "metadata": {
  "interpreter": {
   "hash": "b3ba2566441a7c06988d0923437866b63cedc61552a5af99d1f4fb67d367b25f"
  },
  "kernelspec": {
   "display_name": "Python 3.8.8 ('base')",
   "language": "python",
   "name": "python3"
  },
  "language_info": {
   "codemirror_mode": {
    "name": "ipython",
    "version": 3
   },
   "file_extension": ".py",
   "mimetype": "text/x-python",
   "name": "python",
   "nbconvert_exporter": "python",
   "pygments_lexer": "ipython3",
   "version": "3.8.8"
  },
  "orig_nbformat": 4
 },
 "nbformat": 4,
 "nbformat_minor": 2
}
