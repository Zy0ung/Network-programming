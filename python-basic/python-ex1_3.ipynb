{
 "cells": [
  {
   "cell_type": "markdown",
   "metadata": {},
   "source": [
    "### 연습문제 1"
   ]
  },
  {
   "cell_type": "code",
   "execution_count": 39,
   "metadata": {},
   "outputs": [
    {
     "name": "stdout",
     "output_type": "stream",
     "text": [
      "22\n",
      "My name is JiyoungSongMy name is JiyoungSongMy name is JiyoungSongMy name is JiyoungSongMy name is JiyoungSongMy name is JiyoungSongMy name is JiyoungSongMy name is JiyoungSongMy name is JiyoungSongMy name is JiyoungSong\n",
      "M\n",
      "My n\n",
      "Song\n",
      "gnoSgnuoyiJ si eman yM\n",
      "y name is JiyoungSon\n",
      "MY NAME IS JIYOUNGSONG\n",
      "my name is jiyoungsong\n",
      "My neme is JiyoungSong\n"
     ]
    }
   ],
   "source": [
    "name = \"My name is JiyoungSong\"\n",
    "\n",
    "#문자열의 문자수 출력\n",
    "print(len(name))\n",
    "#문자열 10번 반복\n",
    "print(name *10)\n",
    "#문자열의 첫번째 문자 출력\n",
    "print(name[0])\n",
    "#문자열에서 처음 4문자 출력\n",
    "print(name[:4])\n",
    "#문자열에서 마지막 4문자 출력\n",
    "print(name[-4:])\n",
    "#문자열의 문자를 거꾸로 출력\n",
    "print(name[::-1])\n",
    "#문자열에서 첫 번째 문자와 마지막 문자를 제거한 문자열을 출력\n",
    "print(name[1:-1])\n",
    "#문자를 모두 대문자로 변경하여 출력\n",
    "print(name.upper())\n",
    "#문자를 모두 소문자로 변경하여 출력\n",
    "print(name.lower())\n",
    "#문자열에서 'a'를 'e'로 대체하여 출력\n",
    "print(name.replace('a', 'e'))"
   ]
  },
  {
   "cell_type": "markdown",
   "metadata": {},
   "source": [
    "### 연습문제 2"
   ]
  },
  {
   "cell_type": "code",
   "execution_count": 45,
   "metadata": {},
   "outputs": [
    {
     "name": "stdout",
     "output_type": "stream",
     "text": [
      "['yeounju', 'seunga', 'yurlim', 'suhyun']\n",
      "['yeounju', 'seunga', 'chaewon', 'yurlim', 'suhyun']\n",
      "['yeounju', 'seunga', 'chaewon', 'yurlim', 'suhyun', 'junghyun']\n"
     ]
    }
   ],
   "source": [
    "friends = ['seunga', 'yurlim', 'suhyun']\n",
    "\n",
    "#insert()로 맨 앞에 새로운 친구 추가\n",
    "friends.insert(0, 'yeounju')\n",
    "print(friends)\n",
    "\n",
    "#insert()로 3번째 위치에 새로운 친구 추가\n",
    "friends.insert(2, 'chaewon')\n",
    "print(friends)\n",
    "\n",
    "#append()로 마지막에 친구 추가\n",
    "friends.append('junghyun')\n",
    "print(friends)\n"
   ]
  },
  {
   "cell_type": "markdown",
   "metadata": {},
   "source": [
    "### 연습문제 3"
   ]
  },
  {
   "cell_type": "code",
   "execution_count": 74,
   "metadata": {},
   "outputs": [
    {
     "name": "stdout",
     "output_type": "stream",
     "text": [
      "[1, 17, 3]\n",
      "[1, 17, 3, 4, 5, 6]\n",
      "[17, 3, 4, 5, 6]\n",
      "[3, 4, 5, 6, 17]\n",
      "[17, 6, 5, 4, 3]\n",
      "[17, 6, 5, 25, 3]\n"
     ]
    }
   ],
   "source": [
    "numbers = [1, 2, 3]\n",
    "\n",
    "#두 번째 요소를 17로 수정\n",
    "numbers[1] = 17\n",
    "print(numbers)\n",
    "\n",
    "#리스트에 4, 5, 6을 추가\n",
    "numbers.append(4)\n",
    "numbers.append(5)\n",
    "numbers.append(6)\n",
    "print(numbers)\n",
    "\n",
    "#첫 번째 요소 제거\n",
    "numbers.pop(0)\n",
    "print(numbers)\n",
    "\n",
    "#리스트를 요소 오름차순 정렬\n",
    "numbers.sort(reverse=False)\n",
    "print(numbers)\n",
    "\n",
    "#리스트를 요소 내림차순 정렬\n",
    "numbers.sort(reverse=True)\n",
    "print(numbers)\n",
    "\n",
    "#인덱스 3에 25넣기\n",
    "numbers[3] = 25\n",
    "print(numbers)"
   ]
  }
 ],
 "metadata": {
  "interpreter": {
   "hash": "b3ba2566441a7c06988d0923437866b63cedc61552a5af99d1f4fb67d367b25f"
  },
  "kernelspec": {
   "display_name": "Python 3.8.8 ('base')",
   "language": "python",
   "name": "python3"
  },
  "language_info": {
   "codemirror_mode": {
    "name": "ipython",
    "version": 3
   },
   "file_extension": ".py",
   "mimetype": "text/x-python",
   "name": "python",
   "nbconvert_exporter": "python",
   "pygments_lexer": "ipython3",
   "version": "3.8.8"
  },
  "orig_nbformat": 4
 },
 "nbformat": 4,
 "nbformat_minor": 2
}
