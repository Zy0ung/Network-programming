{
 "cells": [
  {
   "cell_type": "markdown",
   "metadata": {},
   "source": [
    "### 연습문제 10"
   ]
  },
  {
   "cell_type": "code",
   "execution_count": 11,
   "metadata": {},
   "outputs": [],
   "source": [
    "d = [{'name':'Todd', 'phone':'555-1414', 'email':'todd@mail.net'},{'name':'Helga', 'phone':'555-1618', 'email':'helga@mail.net'},\n",
    "    {'name':'Princess', 'phone':'555-3141', 'email' : ''},{'name':'LJ', 'phone':'555-2718', 'email':'lj@mail.net'}]"
   ]
  },
  {
   "cell_type": "code",
   "execution_count": 23,
   "metadata": {},
   "outputs": [
    {
     "name": "stdout",
     "output_type": "stream",
     "text": [
      "{'name': 'Helga', 'phone': '555-1618', 'email': 'helga@mail.net'}\n",
      "{'name': 'LJ', 'phone': '555-2718', 'email': 'lj@mail.net'}\n"
     ]
    }
   ],
   "source": [
    "#전화번호가 8로 끝나는 사용자 이름을 출력\n",
    "i=0\n",
    "for a in d:\n",
    "    n=d[i]['phone']\n",
    "    if n[-1]=='8':\n",
    "        print(d[i])\n",
    "    i=i+1"
   ]
  },
  {
   "cell_type": "code",
   "execution_count": 24,
   "metadata": {},
   "outputs": [
    {
     "name": "stdout",
     "output_type": "stream",
     "text": [
      "{'name': 'Princess', 'phone': '555-3141', 'email': ''}\n"
     ]
    }
   ],
   "source": [
    "#이메일이 없는 사용자를 출력\n",
    "i=0\n",
    "for a in d:\n",
    "    n=d[i]['email']\n",
    "    if len(n)==0:\n",
    "        print(d[i])\n",
    "    i=i+1"
   ]
  },
  {
   "cell_type": "code",
   "execution_count": 54,
   "metadata": {},
   "outputs": [
    {
     "name": "stdout",
     "output_type": "stream",
     "text": [
      "이메일이 없습니다.\n"
     ]
    }
   ],
   "source": [
    "#사용자 이름을 입력하면 전화번호, 이메일 출력. 이메일이 없으면 '이름이 없습니다' 메시지 출력\n",
    "name = input()\n",
    "\n",
    "i=0\n",
    "for a in d:\n",
    "    n=d[i]['name']\n",
    "    if n==name:\n",
    "        if len(d[i]['email']) == 0:\n",
    "            print('이메일이 없습니다.') \n",
    "        else:\n",
    "            print(d[i])\n",
    "    i=i+1"
   ]
  }
 ],
 "metadata": {
  "interpreter": {
   "hash": "b3ba2566441a7c06988d0923437866b63cedc61552a5af99d1f4fb67d367b25f"
  },
  "kernelspec": {
   "display_name": "Python 3.8.8 ('base')",
   "language": "python",
   "name": "python3"
  },
  "language_info": {
   "codemirror_mode": {
    "name": "ipython",
    "version": 3
   },
   "file_extension": ".py",
   "mimetype": "text/x-python",
   "name": "python",
   "nbconvert_exporter": "python",
   "pygments_lexer": "ipython3",
   "version": "3.8.8"
  },
  "orig_nbformat": 4
 },
 "nbformat": 4,
 "nbformat_minor": 2
}
